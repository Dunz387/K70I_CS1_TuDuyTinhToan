{
 "cells": [
  {
   "cell_type": "code",
   "execution_count": null,
   "id": "fa523dfb",
   "metadata": {},
   "outputs": [
    {
     "name": "stdout",
     "output_type": "stream",
     "text": [
      "2\n"
     ]
    }
   ],
   "source": [
    "#W1a1\n",
    "a = 7 #gán biến a bằng 7\n",
    "b = 5 #gán biến b bằng 5\n",
    "c = a - b #gán biến c bằng hiệu của a và b\n",
    "print(c) #in giá trị của c=a-b"
   ]
  },
  {
   "cell_type": "code",
   "execution_count": null,
   "id": "4df5a205",
   "metadata": {},
   "outputs": [
    {
     "name": "stdout",
     "output_type": "stream",
     "text": [
      "Thành phố: Hà Nội -Năm: 2025\n"
     ]
    }
   ],
   "source": [
    "#W1a2\n",
    "city = \"Hà Nội\" #gán biến city bằng chuỗi \"Hà Nội\"\n",
    "year = 2025 #gán biến year bằng số 2025\n",
    "print(\"Thành phố:\", city, \"-Năm:\", year) #in giá trị của city và year"
   ]
  },
  {
   "cell_type": "code",
   "execution_count": null,
   "id": "00bba2f0",
   "metadata": {},
   "outputs": [
    {
     "name": "stdout",
     "output_type": "stream",
     "text": [
      "10\n"
     ]
    }
   ],
   "source": [
    "#W1a3\n",
    "n = 4 #gán biến n bằng 4\n",
    "t = 0 #gán biến t bằng 0\n",
    "for i in range(1, n + 1) : #vòng lặp từ 1 đến n\n",
    "    t += i #cộng dồn giá trị i vào t\n",
    "print(t) #in giá trị của t"
   ]
  },
  {
   "cell_type": "code",
   "execution_count": null,
   "id": "69fbfd9f",
   "metadata": {},
   "outputs": [
    {
     "name": "stdout",
     "output_type": "stream",
     "text": [
      "1 là số lẻ\n",
      "2 là số chẵn\n",
      "3 là số lẻ\n",
      "4 là số chẵn\n"
     ]
    }
   ],
   "source": [
    "#W1a4\n",
    "numbers = [1, 2, 3, 4] #danh sách các số\n",
    "for x in numbers : #vòng lặp qua từng phần tử trong danh sách\n",
    "    if x % 2 == 0 : #kiểm tra nếu phần tử x chia hết cho 2\n",
    "        print(x, \"là số chẵn\") #in ra x là số chẵn\n",
    "    else : #nếu không thì\n",
    "        print(x, \"là số lẻ\") #in ra x là số lẻ"
   ]
  },
  {
   "cell_type": "code",
   "execution_count": null,
   "id": "c0eea7d9",
   "metadata": {},
   "outputs": [
    {
     "name": "stdout",
     "output_type": "stream",
     "text": [
      "Số phần tử trong danh sách là: 4\n"
     ]
    }
   ],
   "source": [
    "#w1a5\n",
    "animals = [\"cat\", \"dog\", \"cat\", \"bird\"] #danh sách các con vật\n",
    "count = 0 #biến đếm số\n",
    "for a in animals : #vòng lặp qua từng phần tử trong danh sách\n",
    "    count += 1 #tăng biến đếm lên 1\n",
    "print(\"Số phần tử trong danh sách là:\", count) #in ra số lượng phần tử trong danh sách"
   ]
  },
  {
   "cell_type": "markdown",
   "id": "cb572734",
   "metadata": {},
   "source": [
    "#w1a6\n",
    "Chương trình này là một menu lựa chọn cho người dùng. Nó in ra các tùy chọn để sau đó người dùng nhập lựa chọn và chương trình sẽ thực hiện tác vụ tương ứng"
   ]
  },
  {
   "cell_type": "code",
   "execution_count": null,
   "id": "1e5b6e1b",
   "metadata": {},
   "outputs": [
    {
     "name": "stdout",
     "output_type": "stream",
     "text": [
      "Số chẵn\n"
     ]
    }
   ],
   "source": [
    "#w1a7\n",
    "num = int(input(\"Nhập số: \")) #yêu cầu người dùng nhập một số\n",
    "if num % 2 == 0 : #kiểm tra nếu số chia hết cho 2\n",
    "    print(\"Số chẵn\") #in ra số là số chẵn\n",
    "else :\n",
    "    print(\"Số lẻ\") #in ra số là số lẻ"
   ]
  },
  {
   "cell_type": "code",
   "execution_count": null,
   "id": "dfb96e26",
   "metadata": {},
   "outputs": [
    {
     "name": "stdout",
     "output_type": "stream",
     "text": [
      "AI đang học lần 1\n",
      "AI đang học lần 2\n",
      "AI đang học lần 3\n",
      "Huấn luyện xong\n"
     ]
    }
   ],
   "source": [
    "#w1a8\n",
    "for i in range(3) : #vòng lặp từ 0 đến 2\n",
    "    print(\"AI đang học lần\", i+1) #in ra số lần học hiện tại\n",
    "print(\"Huấn luyện xong\") #in ra thông báo huấn luyện xong"
   ]
  },
  {
   "cell_type": "code",
   "execution_count": null,
   "id": "4a1fea58",
   "metadata": {},
   "outputs": [
    {
     "name": "stdout",
     "output_type": "stream",
     "text": [
      "Dự đoán con vật: cat\n",
      "Dự đoán con vật: dog\n",
      "Dự đoán con vật: fish\n"
     ]
    }
   ],
   "source": [
    "#w1a9\n",
    "for x in [\"cat\", \"dog\", \"fish\"]:\n",
    "    print(\"Dự đoán con vật:\", x)\n",
    "#Đoạn code in ra 3 dòng, mỗi dòng là một con vật từ danh sách đã cho."
   ]
  },
  {
   "cell_type": "code",
   "execution_count": null,
   "id": "7f862235",
   "metadata": {},
   "outputs": [],
   "source": [
    "#w1a10\n",
    "print \"=== AI Prediction System ===\" #thiếu dấu ngoặc đơn\n",
    "print(\"1) Sentiment analysis\" #Thiếu dấu đóng ngoặc đơn\n",
    "print(\"2) Weather forecast\")) #Thừa dấu đóng ngoặc đơn\n",
    "print('3) Exit' #Thiếu dấu đóng ngoặc đơn\n",
    "print(\"Please choose an option:\")"
   ]
  }
 ],
 "metadata": {
  "kernelspec": {
   "display_name": ".venv",
   "language": "python",
   "name": "python3"
  },
  "language_info": {
   "codemirror_mode": {
    "name": "ipython",
    "version": 3
   },
   "file_extension": ".py",
   "mimetype": "text/x-python",
   "name": "python",
   "nbconvert_exporter": "python",
   "pygments_lexer": "ipython3",
   "version": "3.13.7"
  }
 },
 "nbformat": 4,
 "nbformat_minor": 5
}
