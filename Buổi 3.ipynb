{
 "cells": [
  {
   "cell_type": "code",
   "execution_count": 3,
   "id": "db0d4c1f",
   "metadata": {},
   "outputs": [
    {
     "name": "stdout",
     "output_type": "stream",
     "text": [
      "Số đảo ngược là:  321\n"
     ]
    }
   ],
   "source": [
    "#Đảo ngược số nguyên\n",
    "num = int(input(\"Nhập một số nguyên: \"))\n",
    "print(\"Số đảo ngược là: \", str(num)[::-1])"
   ]
  },
  {
   "cell_type": "code",
   "execution_count": 4,
   "id": "1dceadc6",
   "metadata": {},
   "outputs": [
    {
     "name": "stdout",
     "output_type": "stream",
     "text": [
      "Số a sau khi hoán đổi:  10\n",
      "Số b sau khi hoán đổi:  5\n"
     ]
    }
   ],
   "source": [
    "#Hoán đổi số không sử dụng biến trung gian\n",
    "a = int(input(\"Nhập số a: \"))\n",
    "b = int(input(\"Nhập số b: \"))\n",
    "a = a ^ b\n",
    "b = a ^ b\n",
    "a = a ^ b\n",
    "print(\"Số a sau khi hoán đổi: \", a)\n",
    "print(\"Số b sau khi hoán đổi: \", b)"
   ]
  },
  {
   "cell_type": "code",
   "execution_count": 7,
   "id": "c968fdfb",
   "metadata": {},
   "outputs": [
    {
     "name": "stdout",
     "output_type": "stream",
     "text": [
      "16 là lũy thừa của 2\n"
     ]
    }
   ],
   "source": [
    "#Tìm lũy thừa của 2\n",
    "n = int(input(\"Nhập số nguyên n : \"))\n",
    "if n & (n-1) == 0:\n",
    "    print(n, \"là lũy thừa của 2\")\n",
    "else:\n",
    "    print(n, \"không phải lũy thừa của 2\")"
   ]
  },
  {
   "cell_type": "code",
   "execution_count": null,
   "id": "bd57dd84",
   "metadata": {},
   "outputs": [
    {
     "name": "stdout",
     "output_type": "stream",
     "text": [
      "Thương làm tròn xuống a chia b là:  51\n"
     ]
    }
   ],
   "source": [
    "#Lấy thương 2 số và làm tròn xuống\n",
    "a, b = map(int, input(\"Nhập 2 số a và b: \").split())\n",
    "c = a / b\n",
    "if round(c) > c:\n",
    "    print(\"Thương làm tròn xuống của a chia b là: \", round(c) - 1)\n",
    "else:\n",
    "    print(\"Thương làm tròn xuống của a chia b là: \", round(c))"
   ]
  },
  {
   "cell_type": "code",
   "execution_count": null,
   "id": "a1d95c70",
   "metadata": {},
   "outputs": [
    {
     "name": "stdout",
     "output_type": "stream",
     "text": [
      "Thương làm tròn lên a chia b là:  1\n"
     ]
    }
   ],
   "source": [
    "#Lấy thương 2 số và làm tròn lên\n",
    "a, b = map(int, input(\"Nhập 2 số a và b: \").split())\n",
    "c = a / b\n",
    "if round(c) > c:\n",
    "    print(\"Thương làm tròn lên của a chia b là: \", round(c))\n",
    "else:\n",
    "    print(\"Thương làm tròn lên của a chia b là: \", round(c)+1)"
   ]
  },
  {
   "cell_type": "code",
   "execution_count": 14,
   "id": "93da95a6",
   "metadata": {},
   "outputs": [
    {
     "name": "stdout",
     "output_type": "stream",
     "text": [
      "Odd\n"
     ]
    }
   ],
   "source": [
    "#Kiểm tra chẵn lẻ\n",
    "n = int(input(\"Nhập số nguyên n: \"))\n",
    "if n % 2 == 0:\n",
    "    print(\"Even\")\n",
    "else:\n",
    "    print(\"Odd\")"
   ]
  },
  {
   "cell_type": "code",
   "execution_count": 15,
   "id": "9a71f291",
   "metadata": {},
   "outputs": [
    {
     "name": "stdout",
     "output_type": "stream",
     "text": [
      "Yes \n"
     ]
    }
   ],
   "source": [
    "#Kiểm tra số âm\n",
    "a, b = map(int, input(\"Nhập 2 số a và b: \").split())\n",
    "if a * b > 0 and a + b < 0:\n",
    "    print(\"Yes \")\n",
    "else:\n",
    "    print(\"No\")"
   ]
  },
  {
   "cell_type": "code",
   "execution_count": 17,
   "id": "f88e18af",
   "metadata": {},
   "outputs": [
    {
     "name": "stdout",
     "output_type": "stream",
     "text": [
      "False\n"
     ]
    }
   ],
   "source": [
    "#So sánh độ dài chuỗi\n",
    "a = input(\"Nhập chuỗi a: \")\n",
    "b = input(\"Nhập chuỗi b: \")\n",
    "if len(a) > len(b):\n",
    "    print(\"True\")\n",
    "else:\n",
    "    print(\"False\")"
   ]
  },
  {
   "cell_type": "code",
   "execution_count": 18,
   "id": "f1a2818c",
   "metadata": {},
   "outputs": [
    {
     "name": "stdout",
     "output_type": "stream",
     "text": [
      "Yes\n"
     ]
    }
   ],
   "source": [
    "#Độ dài cạnh tam giác\n",
    "a, b, c = map(int, input(\"Nhập độ dài 3 cạnh tam giác a, b, c: \").split())\n",
    "if a + b > c and a + c > b and b + c > a:\n",
    "    print(\"Yes\")\n",
    "else:\n",
    "    print(\"No\")"
   ]
  },
  {
   "cell_type": "code",
   "execution_count": 19,
   "id": "4fc659d9",
   "metadata": {},
   "outputs": [
    {
     "name": "stdout",
     "output_type": "stream",
     "text": [
      "Số lớn nhất trong 4 số là:  4\n"
     ]
    }
   ],
   "source": [
    "#Tìm số lớn nhất trong 4 số\n",
    "a, b, c, d = map(int, input(\"Nhập 4 số a, b, c, d: \").split())\n",
    "list = [a, b, c, d]\n",
    "print(\"Số lớn nhất trong 4 số là: \", max(list))"
   ]
  },
  {
   "cell_type": "code",
   "execution_count": 27,
   "id": "f7cabe41",
   "metadata": {},
   "outputs": [
    {
     "name": "stdout",
     "output_type": "stream",
     "text": [
      "Tam giác thường\n"
     ]
    }
   ],
   "source": [
    "#Tam giác\n",
    "a, b, c = map(int, input(\"Nhập độ dài 3 cạnh tam giác a, b, c: \").split())\n",
    "if a + b > c and a + c > b and b + c > a:\n",
    "    if a == b == c:\n",
    "        print(\"Tam giác đều\")\n",
    "    elif a == b or b == c or a == c:\n",
    "        print(\"Tam giác cân\")\n",
    "    else:\n",
    "        print(\"Tam giác thường\")\n",
    "else:   \n",
    "    print(\"Không phải tam giác\")\n"
   ]
  },
  {
   "cell_type": "code",
   "execution_count": 28,
   "id": "5c6410eb",
   "metadata": {},
   "outputs": [
    {
     "name": "stdout",
     "output_type": "stream",
     "text": [
      "Yes\n"
     ]
    }
   ],
   "source": [
    "#Kiểm tra năm nhuận\n",
    "year = int(input(\"Nhập năm: \"))\n",
    "if (year % 4 == 0 and year % 100 != 0) or (year % 400 == 0):\n",
    "    print(\"Yes\")\n",
    "else:\n",
    "    print(\"No\")"
   ]
  },
  {
   "cell_type": "code",
   "execution_count": 30,
   "id": "5a0cc98f",
   "metadata": {},
   "outputs": [
    {
     "name": "stdout",
     "output_type": "stream",
     "text": [
      "235000\n"
     ]
    }
   ],
   "source": [
    "#Tính tiền điện\n",
    "e = int(input(\"Nhập số kWh: \"))\n",
    "for i in range(1, e+1):\n",
    "    if i <= 50:\n",
    "        money = i * 1500\n",
    "    elif i <= 100:\n",
    "        money = 50 * 1500 + (i - 50) * 2000\n",
    "    else:\n",
    "        money = 50 * 1500 + 50 * 2000 + (i - 100) * 3000\n",
    "print(money)"
   ]
  },
  {
   "cell_type": "code",
   "execution_count": 38,
   "id": "dae446fc",
   "metadata": {},
   "outputs": [
    {
     "name": "stdout",
     "output_type": "stream",
     "text": [
      "Phương trình có nghiệm x = 3.0\n"
     ]
    }
   ],
   "source": [
    "#Giải phương trình bậc nhất\n",
    "a = float(input(\"Nhập hệ số a: \"))\n",
    "b = float(input(\"Nhập hệ số b: \"))\n",
    "if a == 0 and b == 0:\n",
    "    print(\"Vô số nghiệm\")\n",
    "elif a == 0 and b != 0:\n",
    "    print(\"Vô nghiệm\")\n",
    "else:\n",
    "    print(\"Phương trình có nghiệm x =\", round(-b / a, 2))\n"
   ]
  },
  {
   "cell_type": "code",
   "execution_count": 41,
   "id": "c1b49492",
   "metadata": {},
   "outputs": [
    {
     "name": "stdout",
     "output_type": "stream",
     "text": [
      "Khá\n"
     ]
    }
   ],
   "source": [
    "#Xếp loại học lực\n",
    "diem = float(input(\"Nhập điểm trung bình: \"))\n",
    "if diem >= 8.0:\n",
    "    print(\"Giỏi\")\n",
    "elif diem >= 6.5:\n",
    "    print(\"Khá\")\n",
    "elif diem >= 5.0:\n",
    "    print(\"Trung bình\")\n",
    "else:\n",
    "    print(\"Yếu\")"
   ]
  },
  {
   "cell_type": "code",
   "execution_count": 48,
   "id": "ecc6fbcd",
   "metadata": {},
   "outputs": [
    {
     "name": "stdout",
     "output_type": "stream",
     "text": [
      "-5 -6 -6\n"
     ]
    }
   ],
   "source": [
    "#Làm tròn\n",
    "def round_up(x):\n",
    "    if round(x) > x:\n",
    "        return round(x)\n",
    "    else:\n",
    "        return round(x) + 1\n",
    "\n",
    "def round_down(x):\n",
    "    if round(x) > x:\n",
    "        return round(x) - 1\n",
    "    else:\n",
    "        return round(x)\n",
    "    \n",
    "n = float(input(\"Nhập số thực: \"))\n",
    "print(round_up(n), round_down(n), round(n))"
   ]
  }
 ],
 "metadata": {
  "kernelspec": {
   "display_name": "Python 3",
   "language": "python",
   "name": "python3"
  },
  "language_info": {
   "codemirror_mode": {
    "name": "ipython",
    "version": 3
   },
   "file_extension": ".py",
   "mimetype": "text/x-python",
   "name": "python",
   "nbconvert_exporter": "python",
   "pygments_lexer": "ipython3",
   "version": "3.13.7"
  }
 },
 "nbformat": 4,
 "nbformat_minor": 5
}
