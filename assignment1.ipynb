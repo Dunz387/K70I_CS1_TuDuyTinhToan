{
 "cells": [
  {
   "cell_type": "code",
   "execution_count": 1,
   "id": "3d7bf429",
   "metadata": {},
   "outputs": [
    {
     "name": "stdout",
     "output_type": "stream",
     "text": [
      "hello world\n"
     ]
    }
   ],
   "source": [
    "#w2a1\n",
    "print(\"hello world\")"
   ]
  },
  {
   "cell_type": "code",
   "execution_count": 5,
   "id": "06eb32a3",
   "metadata": {},
   "outputs": [
    {
     "name": "stdout",
     "output_type": "stream",
     "text": [
      "Xin chào Dũng\n"
     ]
    }
   ],
   "source": [
    "#w2a2\n",
    "x = input(\"Nhập tên của bạn: \")\n",
    "print(\"Xin chào\", x)"
   ]
  },
  {
   "cell_type": "code",
   "execution_count": null,
   "id": "c7117e8c",
   "metadata": {},
   "outputs": [
    {
     "name": "stdout",
     "output_type": "stream",
     "text": [
      "Tổng 44\n",
      "Hiệu 6\n",
      "Tích 475\n",
      "Thương phần nguyên 1\n",
      "Thương phần dư 6\n",
      "Thương lấy phần thập phân 1.32\n"
     ]
    }
   ],
   "source": [
    "#w2a3\n",
    "a = int(input(\"Nhập số a: \"))\n",
    "b = int(input(\"Nhập số b: \"))\n",
    "print(\"Tổng\", a + b)\n",
    "print(\"Hiệu\", a - b)\n",
    "print(\"Tích\", a * b)\n",
    "print(\"Thương phần nguyên\", a // b)\n",
    "print(\"Thương phần dư\", a % b)\n",
    "print(\"Thương lấy phần thập phân\", round( a / b , 2))"
   ]
  },
  {
   "cell_type": "code",
   "execution_count": 9,
   "id": "7d4581ea",
   "metadata": {},
   "outputs": [
    {
     "name": "stdout",
     "output_type": "stream",
     "text": [
      "Điểm trung bình:  8.1\n"
     ]
    }
   ],
   "source": [
    "#w2a4\n",
    "score = list(map(float, input(\"Nhập điểm từng môn \").split()))\n",
    "he1 = score[0]+score[1]+score[2]\n",
    "he2 = score[3]+score[4]\n",
    "he3 = score[5]\n",
    "diemtrungbinh = round((he1 + he2*2 +he3*3) / 10, 1)\n",
    "print(\"Điểm trung bình: \", diemtrungbinh)"
   ]
  },
  {
   "cell_type": "code",
   "execution_count": 6,
   "id": "a903700c",
   "metadata": {},
   "outputs": [
    {
     "name": "stdout",
     "output_type": "stream",
     "text": [
      "10000\n"
     ]
    }
   ],
   "source": [
    "#w2a5\n",
    "a = int(input(\"Nhập số a: \"))\n",
    "b = int(input(\"Nhập số b: \"))\n",
    "print(a ** b)"
   ]
  },
  {
   "cell_type": "code",
   "execution_count": null,
   "id": "23216b37",
   "metadata": {},
   "outputs": [
    {
     "name": "stdout",
     "output_type": "stream",
     "text": [
      "Mã Unicode của chữ cái đó là:  97\n",
      "Chữ cái in hoa của chữ cái đó là:  A\n"
     ]
    }
   ],
   "source": [
    "#w2a6\n",
    "l = input(\"Nhập vào một chữ cái thường: \")\n",
    "print(\"Mã Unicode của chữ cái đó là:\", ord(l))\n",
    "print(\"Chữ cái in hoa của chữ cái đó là:\", chr(ord(l)-32))"
   ]
  },
  {
   "cell_type": "code",
   "execution_count": 11,
   "id": "4c5a679e",
   "metadata": {},
   "outputs": [
    {
     "name": "stdout",
     "output_type": "stream",
     "text": [
      "512 512\n"
     ]
    }
   ],
   "source": [
    "#w2a7\n",
    "A = ( ( 13 ** 2 ) * 3 ) + 5\n",
    "B =  13 ** 2 * 3 + 5\n",
    "print(A, B)"
   ]
  },
  {
   "cell_type": "code",
   "execution_count": 16,
   "id": "0552d85f",
   "metadata": {},
   "outputs": [
    {
     "name": "stdout",
     "output_type": "stream",
     "text": [
      "Nhiệt độ Fahrenheint là:  98.6\n"
     ]
    }
   ],
   "source": [
    "#w2a8\n",
    "C = int(input(\"Nhập nhiệt độ Celsius: \"))\n",
    "F = 9 / 5 * C + 32\n",
    "print(\"Nhiệt độ Fahrenheint là: \", round(F, 2))"
   ]
  },
  {
   "cell_type": "code",
   "execution_count": 19,
   "id": "b1d716e1",
   "metadata": {},
   "outputs": [
    {
     "name": "stdout",
     "output_type": "stream",
     "text": [
      "Giá Sơn Tùng cần phải trả là  157.3\n"
     ]
    }
   ],
   "source": [
    "#w2a9\n",
    "price = float(input(\"Nhập giá đồng hồ: \"))\n",
    "cost = ( ( price + 10 ) * 1.3 ) * 1.1\n",
    "print(\"Giá Sơn Tùng cần phải trả là \", round(cost, 2))"
   ]
  },
  {
   "cell_type": "code",
   "execution_count": 8,
   "id": "8c195afa",
   "metadata": {},
   "outputs": [
    {
     "name": "stdout",
     "output_type": "stream",
     "text": [
      "Nhập tên người thứ nhất\n",
      "Nhập tên người thứ hai\n",
      "Nhập tên người thứ ba\n",
      "Bùi , Quang , Dũng\n"
     ]
    }
   ],
   "source": [
    "#w2a10\n",
    "a = input(print(\"Nhập tên người thứ nhất\"))\n",
    "b = input(print(\"Nhập tên người thứ hai\"))\n",
    "c = input(print(\"Nhập tên người thứ ba\"))\n",
    "print(c,\",\", b,\",\", a)"
   ]
  },
  {
   "cell_type": "code",
   "execution_count": 20,
   "id": "cc4e48c5",
   "metadata": {},
   "outputs": [
    {
     "name": "stdout",
     "output_type": "stream",
     "text": [
      "Tổng số giây là :  9000\n"
     ]
    }
   ],
   "source": [
    "#w2a11\n",
    "hour = int( input( \"Nhập số giờ : \") )\n",
    "min = int( input( \"Nhập số phút : \") )\n",
    "sec = hour * 3600 + min * 60\n",
    "print(\"Tổng số giây là : \", sec)"
   ]
  },
  {
   "cell_type": "code",
   "execution_count": 21,
   "id": "c8a5cfda",
   "metadata": {},
   "outputs": [
    {
     "name": "stdout",
     "output_type": "stream",
     "text": [
      "số miếng dán cần  54\n"
     ]
    }
   ],
   "source": [
    "#w2a12\n",
    "n = int(input(\"Nhập độ dài cạnh rubik: \"))\n",
    "print(\"số miếng dán cần \", n ** 2 *6)"
   ]
  },
  {
   "cell_type": "code",
   "execution_count": 11,
   "id": "5abdd631",
   "metadata": {},
   "outputs": [
    {
     "name": "stdout",
     "output_type": "stream",
     "text": [
      "chữ số hàng đơn vị là 0\n"
     ]
    }
   ],
   "source": [
    "#w2a13\n",
    "a, b = map(int, input().split())\n",
    "print(\"chữ số hàng đơn vị là\", a*b%10)"
   ]
  },
  {
   "cell_type": "code",
   "execution_count": 23,
   "id": "ad93bace",
   "metadata": {},
   "outputs": [
    {
     "name": "stdout",
     "output_type": "stream",
     "text": [
      "3 2\n"
     ]
    }
   ],
   "source": [
    "#w2a14\n",
    "a, b = map(int, input( \"Nhập hai số nguyên: \").split())\n",
    "a, b = b, a\n",
    "print(a, b)"
   ]
  },
  {
   "cell_type": "code",
   "execution_count": 1,
   "id": "5a701700",
   "metadata": {},
   "outputs": [
    {
     "ename": "IndentationError",
     "evalue": "expected an indented block after 'for' statement on line 4 (891307805.py, line 6)",
     "output_type": "error",
     "traceback": [
      "  \u001b[36mCell\u001b[39m\u001b[36m \u001b[39m\u001b[32mIn[1]\u001b[39m\u001b[32m, line 6\u001b[39m\n\u001b[31m    \u001b[39m\u001b[31mprint(\" \"*(n//12), \"*\"*(n//12 + 2))\u001b[39m\n    ^\n\u001b[31mIndentationError\u001b[39m\u001b[31m:\u001b[39m expected an indented block after 'for' statement on line 4\n"
     ]
    }
   ],
   "source": [
    "#W2a15\n",
    "n = int(input(\"Nhập số nguyên dương n: \"))\n",
    "if n%12 == 1:\n",
    "    for i in range():\n",
    "        \n",
    "    print(\" \"*(n//12), \"*\"*(n//12 + 2))"
   ]
  },
  {
   "cell_type": "code",
   "execution_count": 9,
   "id": "022c46e7",
   "metadata": {},
   "outputs": [
    {
     "name": "stdout",
     "output_type": "stream",
     "text": [
      "Spring\n",
      "Summer\n",
      "Autumn\n",
      "Winter\n"
     ]
    }
   ],
   "source": [
    "#w2a16\n",
    "season = [\"Spring\", \"Summer\", \"Autumn\", \"Winter\"]\n",
    "for i in season:\n",
    "    print(i)"
   ]
  },
  {
   "cell_type": "code",
   "execution_count": 11,
   "id": "b0e6e786",
   "metadata": {},
   "outputs": [
    {
     "name": "stdout",
     "output_type": "stream",
     "text": [
      "*\n",
      "***\n",
      "*****\n"
     ]
    }
   ],
   "source": [
    "#w2a17\n",
    "for i in range(3):\n",
    "    x = 2 * i + 1\n",
    "    print(\"*\"*x)"
   ]
  },
  {
   "cell_type": "code",
   "execution_count": 12,
   "id": "9b1dbde5",
   "metadata": {},
   "outputs": [
    {
     "name": "stdout",
     "output_type": "stream",
     "text": [
      "### ##  ### ###\n",
      " #  # #  #   # \n",
      " #  #  # #   # \n",
      " #  # #  #   # \n",
      " #  ##   #   # \n"
     ]
    }
   ],
   "source": [
    "#w2a18\n",
    "print(\"### ##  ### ###\")\n",
    "print(\" #  # #  #   # \")\n",
    "print(\" #  #  # #   # \")\n",
    "print(\" #  # #  #   # \")\n",
    "print(\" #  ##   #   # \")"
   ]
  },
  {
   "cell_type": "code",
   "execution_count": 13,
   "id": "2dd8d2ce",
   "metadata": {},
   "outputs": [
    {
     "name": "stdout",
     "output_type": "stream",
     "text": [
      "Monday\n",
      "Tuesday\n",
      "Wednesday\n",
      "Thursday\n",
      "Friday\n",
      "Saturday\n",
      "Sunday\n"
     ]
    }
   ],
   "source": [
    "#w2a19\n",
    "week = [\"Monday\", \"Tuesday\", \"Wednesday\", \"Thursday\", \"Friday\", \"Saturday\", \"Sunday\"]\n",
    "for i in week:\n",
    "    print(i)"
   ]
  },
  {
   "cell_type": "code",
   "execution_count": 14,
   "id": "be03c489",
   "metadata": {},
   "outputs": [
    {
     "name": "stdout",
     "output_type": "stream",
     "text": [
      "January\n",
      "Februnary\n",
      "March\n",
      "April\n",
      "May\n",
      "June\n",
      "July\n",
      "August\n",
      "September\n",
      "Octorber\n",
      "November\n",
      "December\n"
     ]
    }
   ],
   "source": [
    "#w2a20\n",
    "print(\"January\\nFebrunary\\nMarch\\nApril\\nMay\\nJune\\nJuly\\nAugust\\nSeptember\\nOctorber\\nNovember\\nDecember\")"
   ]
  },
  {
   "cell_type": "code",
   "execution_count": 15,
   "id": "fa901c2c",
   "metadata": {},
   "outputs": [
    {
     "name": "stdout",
     "output_type": "stream",
     "text": [
      "Hello world\n",
      "Hello world\n",
      "Hello world\n",
      "Hello world\n",
      "Hello world\n",
      "Hello world\n",
      "Hello world\n",
      "Hello world\n",
      "Hello world\n",
      "Hello world\n"
     ]
    }
   ],
   "source": [
    "#w2a21\n",
    "for i in range(10):\n",
    "    print(\"Hello world\")"
   ]
  }
 ],
 "metadata": {
  "kernelspec": {
   "display_name": ".venv",
   "language": "python",
   "name": "python3"
  },
  "language_info": {
   "codemirror_mode": {
    "name": "ipython",
    "version": 3
   },
   "file_extension": ".py",
   "mimetype": "text/x-python",
   "name": "python",
   "nbconvert_exporter": "python",
   "pygments_lexer": "ipython3",
   "version": "3.13.7"
  }
 },
 "nbformat": 4,
 "nbformat_minor": 5
}
